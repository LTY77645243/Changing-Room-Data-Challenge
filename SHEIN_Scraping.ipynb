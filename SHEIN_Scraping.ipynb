{
 "cells": [
  {
   "cell_type": "code",
   "execution_count": 3,
   "metadata": {},
   "outputs": [],
   "source": [
    "import unittest\n",
    "from selenium import webdriver\n",
    "from Testcase import get_product"
   ]
  },
  {
   "cell_type": "code",
   "execution_count": null,
   "metadata": {},
   "outputs": [],
   "source": [
    "class TestGetProduct(unittest.TestCase):\n",
    "\n",
    "    def testColorItem0(self):\n",
    "        \"check item0's color\"\n",
    "        self.assertEqual(get_product('https://us.shein.com/')[0]['color'],[])\n",
    "    \n",
    "    def testPriceItem0(self):\n",
    "        \"check item0's price\"\n",
    "        self.assertEqual(get_product('https://us.shein.com/')[0]['price'],'US$11.00')\n",
    "\n",
    "    def testProductUrlItem0(self):\n",
    "        \"check item0's url\"\n",
    "        self.assertEqual(get_product('https://us.shein.com/')[0]['product_url'],'https://us.shein.com/SHEIN-Ruffle-Armhole-Ditsy-Floral-Dress-p-2765897-cat-1727.html?scici=navbar_WomenHomePage~~tab01navbar07~~7~~webLink~~~~0')\n",
    "\n",
    "if __name__ == \"__main__\":\n",
    "    unittest.main()"
   ]
  }
 ],
 "metadata": {
  "interpreter": {
   "hash": "b97e303518aaef8461c2def0e975627bca7a545238fa3ea8f8ff419c4536ba13"
  },
  "kernelspec": {
   "display_name": "Python 3.8.8 ('base')",
   "language": "python",
   "name": "python3"
  },
  "language_info": {
   "codemirror_mode": {
    "name": "ipython",
    "version": 3
   },
   "file_extension": ".py",
   "mimetype": "text/x-python",
   "name": "python",
   "nbconvert_exporter": "python",
   "pygments_lexer": "ipython3",
   "version": "3.8.8"
  },
  "orig_nbformat": 4
 },
 "nbformat": 4,
 "nbformat_minor": 2
}
